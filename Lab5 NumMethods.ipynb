{
 "cells": [
  {
   "cell_type": "markdown",
   "metadata": {},
   "source": [
    "# Лабораторная работа №5 \"Численное интегрирование\""
   ]
  },
  {
   "cell_type": "code",
   "execution_count": 351,
   "metadata": {},
   "outputs": [],
   "source": [
    "import numpy as np\n",
    "import matplotlib.pyplot as plt\n",
    "import time\n",
    "import scipy.integrate as intgr"
   ]
  },
  {
   "cell_type": "markdown",
   "metadata": {},
   "source": [
    "## Задача 5.1\n",
    "\n",
    "Вычислить значение интеграла $ I = \\int_1^3 P_m(x)dx $, где $ P_m(x) = \\sum_{i=1}^m c_i x^i $, с помощью квадратурных формул левых прямоугольников, Гаусса и по формуле индивидуального варианта.\n",
    "\n",
    "$ N = 39 $: формула Симпсона.\n",
    "\n",
    "### ПОРЯДОК РЕШЕНИЯ ЗАДАЧИ\n",
    "\n",
    "1. Вычислить аналитически значение интеграла $I$.\n",
    "2. Используя выражение для остаточного члена интегрирования, оценить шаг интегрирования $h$, при котором величина погрешности квадратурной формулы будет меньше $\\varepsilon$. Вычислить число отрезков разбиения $n$.\n",
    "3. Вычислить значение интеграла $I^h$ по составной квадратурной формуле левых прямоугольников с найденным шагом $h$. Найти величину погрешности $R^h = \\left| I - I^h \\right|$.\n",
    "4. Проделать те же действия (п. 2 - 3) для вычисления интеграла $I$ по квадратурной формуле из индивидуального варианта.\n",
    "5. Основываясь на заданной степени многочлена $m$, выбрать число узлов для квадратуры Гаусса, обеспечивающее вычисление интеграла без погрешности. Вычислить интеграл $I^G$.\n",
    "6. Результаты внести в Таблицу 5.1.\n",
    "\n",
    "Формула: $P_m(x) = 0 x^5 + 0 x^4 + 0 x^3 + 5.5 x^2 - 2.4 x + 1.8$"
   ]
  },
  {
   "cell_type": "code",
   "execution_count": 352,
   "metadata": {},
   "outputs": [],
   "source": [
    "def Pm(x):\n",
    "    return 5.5 * x**2 - 2.4 * x + 1.8"
   ]
  },
  {
   "cell_type": "code",
   "execution_count": 353,
   "metadata": {},
   "outputs": [
    {
     "data": {
      "image/png": "[encoded data removed]",
      "text/plain": [
       "<Figure size 432x288 with 1 Axes>"
      ]
     },
     "metadata": {
      "needs_background": "light"
     },
     "output_type": "display_data"
    }
   ],
   "source": [
    "a, b = 1, 3\n",
    "x_data = np.linspace(a, b, 1000)\n",
    "plt.plot(x_data, Pm(x_data), label=f\"$P_m(x)$\")\n",
    "plt.fill_between(x=x_data, y1=Pm(x_data), y2=0, alpha=0.5, linewidth=2)\n",
    "plt.legend()\n",
    "plt.grid()"
   ]
  },
  {
   "cell_type": "markdown",
   "metadata": {},
   "source": [
    "Вычислим значение интеграла аналитически:\n",
    "$$\\int_1^3 (5.5 x^2 - 2.4 x + 1.8) dx = (\\frac{11}{6} x^3 - 1.2 x^2 + 1.8 x )\\big|_1^3 = \\frac{125}{3} $$"
   ]
  },
  {
   "cell_type": "markdown",
   "metadata": {},
   "source": [
    "#### Метод левых прямоугольников\n",
    "$$S = h \\sum_{i=0}^{N-1}f(x_i)$$\n",
    "Значение остаточного члена для формулы левых прямоугольников:\n",
    "$$R = \\frac{M_1(b-a)}{2}h = M_1 h \\qquad \\text{где} \\quad M_1 = \\max_{x \\in \\left[a, b\\right]}\\left| f'(x)\\right|$$\n",
    "\n",
    "$$M_1 = \\max_{x \\in \\left[a, b\\right]}\\left|11 x - 2.4\\right| = 30.6$$\n",
    "\n",
    "Получаем: $$R = M_1 h < \\varepsilon \\quad \\Rightarrow \\quad h < \\frac{\\varepsilon}{30.6}$$"
   ]
  },
  {
   "cell_type": "code",
   "execution_count": 354,
   "metadata": {},
   "outputs": [
    {
     "name": "stdout",
     "output_type": "stream",
     "text": [
      "M1 =  30.6\n",
      "h =  0.0016339869281045752\n",
      "1225\n"
     ]
    }
   ],
   "source": [
    "I = 125 / 3\n",
    "\n",
    "M1 = max(abs(11 * x_data - 2.4))\n",
    "eps = 0.05\n",
    "h = eps / M1\n",
    "print(\"M1 = \", M1)\n",
    "print(\"h = \", h)\n",
    "print(int((b - a) / h) + 1)"
   ]
  },
  {
   "cell_type": "code",
   "execution_count": 355,
   "metadata": {},
   "outputs": [],
   "source": [
    "def I_left_rect(a, b, f, h):\n",
    "    x_data = np.linspace(a, b, int((b - a) / h) + 1)\n",
    "    return h * np.sum(f(x_data[:-1]))"
   ]
  },
  {
   "cell_type": "code",
   "execution_count": 356,
   "metadata": {},
   "outputs": [
    {
     "name": "stdout",
     "output_type": "stream",
     "text": [
      "Значение интеграла по формуле левых прямоугольников:  41.63464541771684\n",
      "Значение погрешности:  0.03202124894982461\n",
      "Время вычисления:  0.0\n",
      "Значение погрешности меньше эпсилон:  да\n"
     ]
    }
   ],
   "source": [
    "start_time = time.time()\n",
    "I_lrect = I_left_rect(a, b, Pm, h)\n",
    "stop_time = time.time()\n",
    "R_h = abs(I - I_lrect)\n",
    "print(\"Значение интеграла по формуле левых прямоугольников: \", I_lrect)\n",
    "print(\"Значение погрешности: \", R_h)\n",
    "print(\"Время вычисления: \", stop_time - start_time)\n",
    "print(\"Значение погрешности меньше эпсилон: \", \"да\" if R_h < eps else \"нет\")"
   ]
  },
  {
   "cell_type": "markdown",
   "metadata": {},
   "source": [
    "#### Квадратурная формула Гаусса\n",
    "$$\\int_a^b f(x) dx \\approx \\frac{b-a}{2} \\sum_{i=0}^{N} A_i f\\left( \\frac{a+b}{2} + \\frac{b-a}{2} t_i \\right)$$\n",
    "Так как степень многочлена равна $2 = 2N+1 \\quad \\Rightarrow \\quad N = 0.5 \\quad \\Rightarrow \\quad N+1 = 1.5$, округляем в большую - $2$ узла для вычисления интеграла без погрешности.\n",
    "\n",
    "Значения весов и узлов квадратурной формулы Гаусса: \\\n",
    "$t_0 = \\frac{-1}{\\sqrt{3}}$ \\\n",
    "$A_0 = 1$ \\\n",
    "$t_1 = \\frac{1}{\\sqrt{3}}$ \\\n",
    "$A_1 = 1$"
   ]
  },
  {
   "cell_type": "code",
   "execution_count": 357,
   "metadata": {},
   "outputs": [],
   "source": [
    "def Gauss():\n",
    "    t = [-np.sqrt(1/3), np.sqrt(1/3)]\n",
    "    A = [1, 1]\n",
    "    ab = (a + b) / 2\n",
    "    ba = (b - a) / 2\n",
    "    g = 0\n",
    "    for i in range(2):\n",
    "        x = ab + ba * t[i]\n",
    "        g += A[i] * Pm(x)\n",
    "    return ba * g"
   ]
  },
  {
   "cell_type": "code",
   "execution_count": 358,
   "metadata": {},
   "outputs": [
    {
     "name": "stdout",
     "output_type": "stream",
     "text": [
      "Значение интеграла по формуле Гаусса:  41.66666666666667\n",
      "Время вычисления:  0.0\n"
     ]
    }
   ],
   "source": [
    "start_time = time.time()\n",
    "I_Gauss = Gauss()\n",
    "stop_time = time.time()\n",
    "print(\"Значение интеграла по формуле Гаусса: \", I_Gauss)\n",
    "print(\"Время вычисления: \", stop_time - start_time)"
   ]
  },
  {
   "cell_type": "markdown",
   "metadata": {},
   "source": [
    "#### Формула Симпсона:\n",
    "$$ S = \\frac{h}{6} \\left(f(x_0) + 4 \\sum_{i=1}^{n} f(x_{i - \\frac{1}{2}}) + 2 \\sum_{i=1}^{n-1} f(x_i) + f(x_n)\\right) $$\n",
    "Остаточный член:\n",
    "$$ R = \\frac{M_4 (b-a)}{2880} h^4 $$\n",
    "Примечание:\n",
    "$$ M_4 = \\max_{x \\in \\left[a, b\\right]}\\left| f^{(4)}(x)\\right| $$\n",
    "Так как многочлен 2 степени, то 4 производная будет равна 0, соответственно остаточный член тоже равен 0, поэтому примем $ h = b-a, n = 1 $"
   ]
  },
  {
   "cell_type": "code",
   "execution_count": 359,
   "metadata": {},
   "outputs": [],
   "source": [
    "def Simpson(a, b, f, h):\n",
    "    s1, s2 = 0, 0\n",
    "    n = round((b - a) / h) + 1\n",
    "    x1 = np.arange(a, b+h/2, h)\n",
    "    x2 = np.arange(a+h/2, b, h)\n",
    "    print(x1, x2)\n",
    "    for i in range(1, n-1):\n",
    "        s1 += 2 * f(x1[i])\n",
    "    for i in range(1, n):\n",
    "        s2 += 4 * f(x2[i-1])\n",
    "    s = (h/6) * (f(a) + s1 + s2 + f(b))\n",
    "    return s"
   ]
  },
  {
   "cell_type": "code",
   "execution_count": 360,
   "metadata": {},
   "outputs": [
    {
     "name": "stdout",
     "output_type": "stream",
     "text": [
      "[1. 3.] [2.]\n",
      "Значение интеграла по формуле Симпсона:  41.666666666666664\n",
      "Значение погрешности:  0.0\n",
      "Время вычисления:  0.0\n"
     ]
    }
   ],
   "source": [
    "h = b - a # берем весь отрезок\n",
    "start_time = time.time()\n",
    "I_Simpson = Simpson(a, b, Pm, h)\n",
    "stop_time = time.time()\n",
    "R_h = abs(I - I_Simpson)\n",
    "print(\"Значение интеграла по формуле Симпсона: \", I_Simpson)\n",
    "print(\"Значение погрешности: \", R_h)\n",
    "print(\"Время вычисления: \", stop_time - start_time)"
   ]
  },
  {
   "cell_type": "markdown",
   "metadata": {},
   "source": [
    "| Найденное точное значение интеграла<br>$$I = \\frac{125}{3} = 41.(6)$$ | Число разбиений отрезка $n$<br>Шаг интегрирования $h$ | Значение интеграла, вычисленное по составной формуле $I^h$<br>Величина погрешности интеграла, вычисленного по составной формуле $R^h$ |\n",
    "|----------------------------------------------------|-------------------------------------------------------|---------------------------------------------------------------------------------------------------------------------------------------|\n",
    "| Метод левых прямоугольников                        | $$n = 1225$$<br>$$h = 1.6*10^{-3}$$                      | $$I^h = 41.63464541771684$$<br>$$R^h = 0.03202124894982461$$                                                                              |\n",
    "| Формула Симпсона                                      | $$n = 1$$<br>$$h = 2$$                                    | $$I^h = 41.(6)$$<br>$$R^h = 0$$                                                                                                            |\n",
    "| Метод Гаусса                                       | Число узлов квадратуры: 2                             | $$I^G = 41.(6)$$                                                                                                             |"
   ]
  },
  {
   "cell_type": "markdown",
   "metadata": {},
   "source": [
    "## Задача 5.2\n",
    "\n",
    "Вычислить интеграл $I = \\int_a^b f(x) dx$ с точностью $\\varepsilon = 10^{-12}$  \n",
    "$f(x) = \\ln(x) \\cos^2(2x)$  \n",
    "$\\left[a, b\\right] = \\left[7, 20\\right]$"
   ]
  },
  {
   "cell_type": "markdown",
   "metadata": {},
   "source": [
    "### ПОРЯДОК РЕШЕНИЯ ЗАДАЧИ\n",
    "\n",
    "1. Вычислить интеграл $I$ с помощью средств пакета Python.\n",
    "2. Составить программу, содержащую следующие разделы:\n",
    "    - процедуру-функцию, вычисляющую интеграл по составной квадратурной формуле из индивидуального варианта $I^h$ с заданным шагом h;\n",
    "    - подпрограмму, вычисляющую значение интеграла с заданной точностью, оценку погрешности производить на основе правила Рунге*;\n",
    "    - вычисление уточненного значения интеграла и величины погрешности.\n",
    "3. Вычислить интеграл по программе и полученные данные свести в таблицу 5.2\n",
    "\n",
    "Результатом работы программы должны быть следующие величины:  \n",
    "$n$ - число разбиений отрезка интегрирования, при котором заданная точность достигнута;  \n",
    "$I^h$ и $I^{h/2}$ - полученные значения интеграла при шагах $h$ и $\\frac{h}{2}$ соответственно;  \n",
    "$R^h = \\left| I^h - I \\right|$ и $R^{h/2} = \\left| I^{h/2} - I \\right|$ - величины абсолютных погрешностей;  \n",
    "$I^{\\text{уточн}}$ и $R^{\\text{уточн}} = \\left| I - I^{\\text{уточн}} \\right|$ - величины для уточненного значения интеграла.  \n",
    "\n",
    "---------------------------------------------------------------------------------------------------------------------------\n",
    "* **Правило Рунге**\n",
    "$$I - I^{h/2} \\approx \\frac{I^{h/2} - I^{h}}{2^{p}-1}$$\n",
    "* **Уточнение по Рунге**:\n",
    "$$I \\approx I^{h/2} + \\frac{I^{h/2} - I^{h}}{2^{p}-1}$$"
   ]
  },
  {
   "cell_type": "code",
   "execution_count": 336,
   "metadata": {},
   "outputs": [],
   "source": [
    "def f(x):\n",
    "    return np.log(x) * np.cos(2 * x) ** 2"
   ]
  },
  {
   "cell_type": "code",
   "execution_count": 337,
   "metadata": {},
   "outputs": [
    {
     "name": "stdout",
     "output_type": "stream",
     "text": [
      "I =  16.212616240295606\n",
      "abserr =  2.3632347058138748e-08\n"
     ]
    }
   ],
   "source": [
    "a, b = 7, 20\n",
    "I, err = intgr.quad(f, a, b)\n",
    "print(\"I = \", I)\n",
    "print(\"abserr = \", err)"
   ]
  },
  {
   "cell_type": "code",
   "execution_count": 338,
   "metadata": {},
   "outputs": [
    {
     "data": {
      "image/png": "[encoded data removed]",
      "text/plain": [
       "<Figure size 432x288 with 1 Axes>"
      ]
     },
     "metadata": {
      "needs_background": "light"
     },
     "output_type": "display_data"
    }
   ],
   "source": [
    "x_data = np.linspace(a, b, 1000)\n",
    "plt.plot(x_data, f(x_data), label=f\"$f(x)$\")\n",
    "plt.fill_between(x=x_data, y1=f(x_data), y2=0, alpha=0.5, linewidth=2)\n",
    "plt.legend()\n",
    "plt.grid()"
   ]
  },
  {
   "cell_type": "code",
   "execution_count": 339,
   "metadata": {},
   "outputs": [],
   "source": [
    "def I_RungeErr(a, b, f, eps, p, Ifunc):\n",
    "    n = 2\n",
    "    h = (b - a) / n\n",
    "    Ih = Ifunc(a, b, f, h)\n",
    "    n *= 2\n",
    "    h = (b - a) / n\n",
    "    Ih2 = Ifunc(a, b, f, h)\n",
    "    while(abs(Ih2 - Ih)/(2**p - 1) >= eps):\n",
    "        n *= 2\n",
    "        h = (b - a) / n\n",
    "        Ih = Ih2\n",
    "        Ih2 = Ifunc(a, b, f, h)\n",
    "    return (Ih, Ih2, n) \n",
    "\n",
    "def Runge_clarify(Ih, Ih2, p):\n",
    "    return Ih2 + (Ih2 - Ih) / (2**p - 1)"
   ]
  },
  {
   "cell_type": "code",
   "execution_count": 340,
   "metadata": {},
   "outputs": [
    {
     "name": "stdout",
     "output_type": "stream",
     "text": [
      "Ih =  16.212546659632412\n",
      "Ih2 =  16.21261195694005\n",
      "n =  128\n",
      "Rh =  6.95806631938467e-05\n",
      "Rh2 =  4.2833555546906155e-06\n",
      "I(уточн) = 16.212616310093892\n",
      "R(уточн) =  6.979828626185736e-08\n"
     ]
    }
   ],
   "source": [
    "# Для Формулы Симпсона\n",
    "eps = 1e-5\n",
    "Ih, Ih2, n = I_RungeErr(a, b, f, eps, 4, Simpson)\n",
    "I_clarified = Runge_clarify(Ih, Ih2, 4)\n",
    "R_clarified = abs(I - I_clarified)\n",
    "print(\"Ih = \", Ih)\n",
    "print(\"Ih2 = \", Ih2)\n",
    "print(\"n = \", n)\n",
    "print(\"Rh = \", abs(I - Ih))\n",
    "print(\"Rh2 = \", abs(I - Ih2))\n",
    "print(\"I(уточн) =\", I_clarified)\n",
    "print(\"R(уточн) = \", R_clarified) "
   ]
  },
  {
   "cell_type": "code",
   "execution_count": 341,
   "metadata": {
    "scrolled": true
   },
   "outputs": [
    {
     "name": "stdout",
     "output_type": "stream",
     "text": [
      "Ih =  16.212616114754837\n",
      "Ih2 =  16.212616177525287\n",
      "n =  134217728\n",
      "Rh =  1.255407688915966e-07\n",
      "Rh2 =  6.277031872059524e-08\n",
      "I(уточн) = 16.212616240295738\n",
      "R(уточн) =  1.3145040611561853e-13\n"
     ]
    }
   ],
   "source": [
    "# Для формулы левых прямоугольников\n",
    "eps = 1e-7\n",
    "Ih, Ih2, n = I_RungeErr(a, b, f, eps, 1, I_left_rect)\n",
    "I_clarified = Runge_clarify(Ih, Ih2, 1)\n",
    "R_clarified = abs(I - I_clarified)\n",
    "print(\"Ih = \", Ih)\n",
    "print(\"Ih2 = \", Ih2)\n",
    "print(\"n = \", n)\n",
    "print(\"Rh = \", abs(I - Ih))\n",
    "print(\"Rh2 = \", abs(I - Ih2))\n",
    "print(\"I(уточн) =\", I_clarified)\n",
    "print(\"R(уточн) = \", R_clarified) "
   ]
  },
  {
   "cell_type": "markdown",
   "metadata": {},
   "source": [
    "Провел небольшой эксперимент с точностью вычисления... По формуле Симпсона с точностью $10^{-10}$ программа не отработала даже за полчаса, а уж о точности $10^{-12}$ и говорить не приходится, там, наверное, сто лет ждать придется :) С точностью $10^{-7}$ программа отработала примерно за 5 минут.\n",
    "Для формулы левых прямоугольников ситуация получше, при точности $10^{-7}$ программа отработала за несколько секунд, а вот при $10^{-8}$ выдала ошибку \"Unable to allocate 8.00 GiB for an array with shape (1073741824,) and data type float64\". Похоже, что у меня банально не хватило оперативной памяти!"
   ]
  },
  {
   "cell_type": "markdown",
   "metadata": {},
   "source": [
    "|            **$$I = 16.212616240295606$$**            |      **Метод левых прямоугольников**     \t|              **Метод Симпсона**              \t|\n",
    "|:---------------------------------------------------:\t|:----------------------------------------:\t|:-----------------------------------------:\t|\n",
    "|              Погрешность $\\varepsilon$              \t|            $1 \\times 10^{-7}$            \t|            $1 \\times 10^{-7}$            \t|\n",
    "|             Число разбиений отрезка $n$             \t|               $134217728$                 |                 $128$                \t|\n",
    "|                Значение интеграла $I$               \t|        $$I^h = 16.212616114754837$$       |        $$I^h = 16.212546659632412$$        \t|\n",
    "|                 Величина погрешности                \t|       $R^h =  1.26 \\times 10^{-7}$       \t|       $R^h =  6.95 \\times 10^{-5}$       \t|\n",
    "|            Уточненное значение интеграла            \t|  $I^{\\text{уточн}} = 16.212616240295738$ \t|  $I^{\\text{уточн}} = 16.212616310093892$ \t|\n",
    "| Величина погрешности уточненного значения интеграла \t| $R^{\\text{уточн}} = 1.31 \\times 10^{-13}$ \t| $R^{\\text{уточн}} = 6.98 \\times 10^{-8}$ \t|"
   ]
  }
 ],
 "metadata": {
  "kernelspec": {
   "display_name": "Python 3",
   "language": "python",
   "name": "python3"
  },
  "language_info": {
   "codemirror_mode": {
    "name": "ipython",
    "version": 3
   },
   "file_extension": ".py",
   "mimetype": "text/x-python",
   "name": "python",
   "nbconvert_exporter": "python",
   "pygments_lexer": "ipython3",
   "version": "3.8.5"
  }
 },
 "nbformat": 4,
 "nbformat_minor": 4
}
