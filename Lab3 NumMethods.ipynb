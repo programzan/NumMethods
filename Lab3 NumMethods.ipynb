{
 "cells": [
  {
   "cell_type": "markdown",
   "metadata": {},
   "source": [
    "# Лабораторная работа №3"
   ]
  },
  {
   "cell_type": "code",
   "execution_count": 6,
   "metadata": {},
   "outputs": [],
   "source": [
    "import numpy as np\n",
    "import matplotlib.pyplot as plt\n",
    "import scipy.linalg as linalg\n",
    "import pprint"
   ]
  },
  {
   "cell_type": "markdown",
   "metadata": {},
   "source": [
    "# Задача 3.1\n",
    "### N = 25; K = 1\n",
    "Реализовать решение СЛАУ с помощью LU-разложения и LU-разложения по схеме частичного выбора. Решить систему небольшой размерности с возмущенной матрицей обоими методами, оценить погрешность и сравнить с теоретической оценкой. Проанализировать поведение методов с ростом числа уравнений.\n",
    "1. Решение с помощью LU реализовано в виде двух функций, одна из которых возвращает две матрицы – L и U, не модифицируя A, а вторая функция решает систему;\n",
    "2. Решение с помощью LU по схеме частичного выбора модифицирует исходную матрицу А.\n",
    "\n",
    "$ A_{ij} = \\sin^{20-j}{(i+1)} $ \n"
   ]
  },
  {
   "cell_type": "code",
   "execution_count": 7,
   "metadata": {},
   "outputs": [],
   "source": [
    "# Сперва зададим матрицу A и вектор b, чтобы с ними работать\n",
    "A = np.array([\n",
    "             [(np.sin(i+1))**(20-j) for j in range(5)] \n",
    "             for i in range(5)]\n",
    "             )\n",
    "x = np.array([25]*5)\n",
    "b = np.dot(A, x)"
   ]
  },
  {
   "cell_type": "code",
   "execution_count": 8,
   "metadata": {},
   "outputs": [],
   "source": [
    "# Функция LU-разложения матрицы A\n",
    "def LU_decomp(A):\n",
    "    # Создаем пустую матрицу LU-разложения\n",
    "    L = np.zeros((A.shape[0], A.shape[1]))\n",
    "    U = L.copy()\n",
    "    n = A.shape[0]  \n",
    "    # Получаем матрицу LU-разложения\n",
    "    for k in range(n):\n",
    "        # Верхнетреугольная матрица U\n",
    "        for j in range(k, n):\n",
    "            U[k, j] = A[k, j] - L[k, :k] @ U[:k, j] \n",
    "        # Нижнетреугольная матрица L \n",
    "        for i in range(k + 1, n):\n",
    "            L[i, k] = (A[i, k] - L[i, :k] @ U[:k, k]) / U[k, k]        \n",
    "    return L, U\n",
    " \n",
    "# Решение с помощью LU-разложения\n",
    "def LU_solve(A, b):   \n",
    "    # Получаем матрицы L и U\n",
    "    L, U = LU_decomp(A) \n",
    "    # Получаем вспомогательный вектор y\n",
    "    y = np.zeros(L.shape[0])\n",
    "    for i in range(y.shape[0]):\n",
    "        y[i] = b[i] - L[i, :i] @ y[:i]    \n",
    "    # Получаем вектор решения x\n",
    "    x = np.zeros(U.shape[0])\n",
    "    for i in range(1, x.shape[0] + 1):\n",
    "        x[-i] = (y[-i] - U[-i, -i:] @ x[-i:]) / U[-i, -i]   \n",
    "    return x\n",
    "\n",
    "# LU по схеме частичного выбора (модификация исходной матрицы)\n",
    "def LUp_solve(A, b):\n",
    "    n = A.shape[0]\n",
    "    A = A.astype(np.float64)\n",
    "    piv = np.arange(0,n)\n",
    "    for k in range(n-1):\n",
    "        max_row_index = np.argmax(abs(A[k:n,k])) + k\n",
    "        piv[[k,max_row_index]] = piv[[max_row_index,k]]\n",
    "        A[[k,max_row_index]] = A[[max_row_index,k]]\n",
    "        for i in range(k+1,n):          \n",
    "            A[i,k] = A[i,k]/A[k,k]      \n",
    "            for j in range(k+1,n):      \n",
    "                A[i,j] -= A[i,k]*A[k,j] \n",
    "    b = b[piv]\n",
    "    y = b.copy().astype(np.float64)\n",
    "    for i in range(n): \n",
    "        for j in range(i):\n",
    "            y[i] -= A[i,j]*y[j]   \n",
    "    for i in range(A.shape[0]-1,-1,-1): \n",
    "        for j in range(i+1, A.shape[1]):\n",
    "            y[i] -= A[i,j]*y[j]\n",
    "        y[i] = y[i]/A[i,i]\n",
    "    return y    "
   ]
  },
  {
   "cell_type": "code",
   "execution_count": 9,
   "metadata": {},
   "outputs": [],
   "source": [
    "def delta_x(x1, x2):\n",
    "    return linalg.norm(x2 - x1, ord = 2)/linalg.norm(x1, ord = 2)\n",
    "\n",
    "def delta_x_score(A):\n",
    "    return np.linalg.cond(A)*(1e-3)/linalg.norm(A, ord = 2)"
   ]
  },
  {
   "cell_type": "code",
   "execution_count": 10,
   "metadata": {},
   "outputs": [
    {
     "name": "stdout",
     "output_type": "stream",
     "text": [
      "[25. 25. 25. 25. 25.]\n",
      "[25. 25. 25. 25. 25.]\n",
      "[25. 25. 25. 25. 25.]\n",
      "[25 25 25 25 25]\n"
     ]
    }
   ],
   "source": [
    "L1, U1 = LU_decomp(A)\n",
    "x1 = LU_solve(A, b)\n",
    "x2 = LUp_solve(A, b)\n",
    "print(x1)\n",
    "print(x2)\n",
    "print(linalg.solve(A, b))\n",
    "print(x)"
   ]
  },
  {
   "cell_type": "code",
   "execution_count": 11,
   "metadata": {},
   "outputs": [
    {
     "name": "stdout",
     "output_type": "stream",
     "text": [
      "152867560079500.94\n",
      "144329331946.16266\n",
      "2.832205875245817e-15\n"
     ]
    }
   ],
   "source": [
    "# Число обусловленности матрицы A. \n",
    "print(np.linalg.cond(A))\n",
    "# Оценка погрешности delta x\n",
    "print(delta_x_score(A))\n",
    "# Погрешность delta x\n",
    "print(delta_x(x2, x))"
   ]
  },
  {
   "cell_type": "code",
   "execution_count": 13,
   "metadata": {},
   "outputs": [
    {
     "name": "stdout",
     "output_type": "stream",
     "text": [
      "[9.647464479684348e-14, 2.592975574923849e-13, 3.145308184115257e-13, 9.714126880081871e-12, 1.3852221564506703e-10, 1.6933166726789504e-10, 6.244965231066724e-08, 4.4678554205308755e-07, 1.6352736078935585e-06, 0.00028760742587390195, 0.004758836311949284]\n",
      "[2.832205875245817e-15, 2.2618633742985743e-15, 2.1328932746645843e-14, 2.5307712438918106e-13, 1.094001298584268e-13, 5.700404103795635e-14, 8.972626697398103e-14, 3.15615698073974e-12, 8.173032393501149e-13, 1.6539258166663607e-10, 2.286126091421652e-10]\n",
      "[5.8163901677683e-15, 4.1431405114489196e-16, 3.914715565118562e-15, 1.5417226045459725e-13, 3.346943742014146e-14, 5.346415534574516e-14, 1.9745667088328801e-13, 1.6565098238962675e-12, 3.3337008471371423e-12, 9.70810408412503e-11, 1.6513019832491817e-10]\n"
     ]
    }
   ],
   "source": [
    "#Сюда будем записывать погрешности\n",
    "delta_x1 = []\n",
    "delta_x2 = []\n",
    "delta_x3 = []\n",
    "for n in range(5,16):\n",
    "    A = np.array([\n",
    "             [(np.sin(i+1))**(20-j) for j in range(n)] \n",
    "             for i in range(n)]\n",
    "             )\n",
    "    x = np.array([25]*n)\n",
    "    b = np.dot(A, x)\n",
    "    A1 = np.copy(A)\n",
    "    A[0][0] += 1e-3 \n",
    "    L, U = LU_decomp(A1)\n",
    "    x1 = LU_solve(A1, b)\n",
    "    x2 = LUp_solve(A1, b)\n",
    "    x3 = linalg.solve(A1, b)\n",
    "    delta_x1.append(delta_x(x1, x))\n",
    "    delta_x2.append(delta_x(x2, x))\n",
    "    delta_x3.append(delta_x(x3, x))\n",
    "print(delta_x1)\n",
    "print(delta_x2)\n",
    "print(delta_x3)"
   ]
  },
  {
   "cell_type": "code",
   "execution_count": 14,
   "metadata": {
    "scrolled": true
   },
   "outputs": [
    {
     "data": {
      "text/plain": [
       "<matplotlib.legend.Legend at 0x2cbb48cf3a0>"
      ]
     },
     "execution_count": 14,
     "metadata": {},
     "output_type": "execute_result"
    },
    {
     "data": {
      "image/png": "[encoded data removed]",
      "text/plain": [
       "<Figure size 1080x360 with 3 Axes>"
      ]
     },
     "metadata": {
      "needs_background": "light"
     },
     "output_type": "display_data"
    }
   ],
   "source": [
    "fig, axs = plt.subplots(1,3, figsize = (15,5))\n",
    "axs[0].plot(range(5,16), delta_x1, color = 'red', ls = 'solid', label = '1 метод')\n",
    "axs[1].plot(range(5,16), delta_x2, color = 'green', ls = 'dashdot', label = '2 метод')\n",
    "axs[2].plot(range(5,16), delta_x3, color = 'blue', ls = 'dotted', label = 'Встроенный метод')\n",
    "axs[0].legend()\n",
    "axs[1].legend()\n",
    "axs[2].legend()"
   ]
  },
  {
   "cell_type": "markdown",
   "metadata": {},
   "source": [
    "# Задача 3.2\n",
    "Дана система уравнений $Ax = b$ порядка $n$ с разреженной матрицей $A$. Решить систему прямым методом.\n",
    "\n",
    "$ N = 25; n = 50; b_i = i^3e^{-i} $\n",
    "\n",
    "Матрица $A$: на побочной диагонали элементы равны 100, на третьей и пятой наддиагоналях элементы равны 20."
   ]
  },
  {
   "cell_type": "code",
   "execution_count": 100,
   "metadata": {},
   "outputs": [
    {
     "name": "stdout",
     "output_type": "stream",
     "text": [
      "array([[  0.,   0.,   0., ...,   0.,   0., 100.],\n",
      "       [  0.,   0.,   0., ...,   0., 100.,   0.],\n",
      "       [  0.,   0.,   0., ..., 100.,   0.,   0.],\n",
      "       ...,\n",
      "       [  0.,   0., 100., ...,   0.,   0.,   0.],\n",
      "       [  0., 100.,   0., ...,   0.,   0.,   0.],\n",
      "       [100.,   0.,   0., ...,   0.,   0.,   0.]])\n"
     ]
    }
   ],
   "source": [
    "A = np.zeros((50, 50))\n",
    "for i in range(50):\n",
    "    for j in range(50):\n",
    "        if i == j - 3:\n",
    "            A[i , j] = 20\n",
    "        if i == j - 5:\n",
    "            A[i, j] = 20\n",
    "        if i == 49 - j:\n",
    "            A[i, j] = 100\n",
    "pprint.pprint(A)"
   ]
  },
  {
   "cell_type": "markdown",
   "metadata": {},
   "source": [
    "To be continued..."
   ]
  },
  {
   "cell_type": "markdown",
   "metadata": {},
   "source": [
    "# Задача 3.3\n",
    "Решить задачу итерационным методом, указанным в индивидуальном варианте. Вектор правой части задается как $b = Ax$, где $x_i = N$.\n",
    "\n",
    "Метод: минимальных невязок.\n",
    "\n",
    "Элементы матрицы $A$ задаются формулой: $ A_{i,j} = \\frac{cos(i + j)}{0.1  \\beta} + 0.1\\beta e^{-(i - j)^2} $, параметр $\\beta$ задается формулой: $ \\beta = (|66 - N| + 5)m $. Вектор $b$ задается по вектору решения.\n",
    "\n",
    "Размерность матрицы: $ m = 26 $. Получаем $ \\beta = (|66 - 25| + 5) * 26 = 1196 $"
   ]
  },
  {
   "cell_type": "code",
   "execution_count": 101,
   "metadata": {},
   "outputs": [],
   "source": [
    "def MRM(A, b, eps):\n",
    "    r = np.zeros(26)\n",
    "    x = np.zeros(26)\n",
    "    r = A @ x - b\n",
    "    it = 0\n",
    "    while linalg.norm(A @ x - b, ord = 2)/linalg.norm(b, ord = 2) >= eps:\n",
    "        tau = np.sum((A @ r) * r)/np.sum((A @ r)*(A @ r))\n",
    "        x = x - tau * r\n",
    "        r = A @ x - b\n",
    "        it += 1\n",
    "    return x, it"
   ]
  },
  {
   "cell_type": "code",
   "execution_count": 102,
   "metadata": {},
   "outputs": [
    {
     "name": "stdout",
     "output_type": "stream",
     "text": [
      "[25. 25. 25. 25. 25. 25. 25. 25. 25. 25. 25. 25. 25. 25. 25. 25. 25. 25.\n",
      " 25. 25. 25. 25. 25. 25. 25. 25.]\n",
      "72\n"
     ]
    }
   ],
   "source": [
    "A = np.array([\n",
    "             [np.math.cos(i + j)/(0.1*1196) + 0.1*1196*np.math.exp(-(i - j)**2) for j in range(26)] \n",
    "             for i in range(26)]\n",
    "             )\n",
    "x = np.array([25]*26)\n",
    "b = A @ x\n",
    "x, it = MRM(A,b,10**(-14))\n",
    "print(x)\n",
    "print(it)"
   ]
  }
 ],
 "metadata": {
  "kernelspec": {
   "display_name": "Python 3",
   "language": "python",
   "name": "python3"
  },
  "language_info": {
   "codemirror_mode": {
    "name": "ipython",
    "version": 3
   },
   "file_extension": ".py",
   "mimetype": "text/x-python",
   "name": "python",
   "nbconvert_exporter": "python",
   "pygments_lexer": "ipython3",
   "version": "3.8.5"
  }
 },
 "nbformat": 4,
 "nbformat_minor": 4
}
